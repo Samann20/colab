{
  "nbformat": 4,
  "nbformat_minor": 0,
  "metadata": {
    "colab": {
      "provenance": []
    },
    "kernelspec": {
      "name": "python3",
      "display_name": "Python 3"
    },
    "language_info": {
      "name": "python"
    }
  },
  "cells": [
    {
      "cell_type": "code",
      "execution_count": 13,
      "metadata": {
        "colab": {
          "base_uri": "https://localhost:8080/"
        },
        "id": "7dazqyZhjw21",
        "outputId": "185e76f9-4772-4ba8-fcaf-83681d95a13c"
      },
      "outputs": [
        {
          "output_type": "stream",
          "name": "stdout",
          "text": [
            "Welcome to our electronic!\n",
            "\n",
            "Categories:\n",
            "1. Electronic\n",
            "2. Clothes\n",
            "3. Books\n",
            "Choose a category (1-3): 2\n",
            "\n",
            "Clothing\n",
            "1. Shirt - $90\n",
            "2. Jeans - $40\n",
            "3. Shoes - $55\n",
            "4. Socks - $11\n",
            "5. Jacket - $110\n",
            "Choose an item (1-5): 3\n",
            "\n",
            "Item price: $55\n",
            "\n",
            "Checkout? (yes/no): yes\n",
            "\n",
            "Thank you for your purchase! Your total is $55.\n"
          ]
        }
      ],
      "source": [
        "def commerce_store():\n",
        "    print(\"Welcome to our electronic!\")\n",
        "    print(\"\\nCategories:\")\n",
        "    print(\"1. Electronic\")\n",
        "    print(\"2. Clothes\")\n",
        "    print(\"3. Books\")\n",
        "\n",
        "    while True:\n",
        "        try:\n",
        "            category_choice = int(input(\"Choose a category (1-3): \"))\n",
        "            if 1 <= category_choice <= 3:\n",
        "                break\n",
        "            else:\n",
        "                print(\"Invalid category choice. Please enter a number.\")\n",
        "        except ValueError:\n",
        "            print(\"Invalid input. Please enter a number.\")\n",
        "\n",
        "    if category_choice == 1:\n",
        "        print(\"\\nElectronic\")\n",
        "        print(\"1. Smartphones - $500\")\n",
        "        print(\"2. Laptop - $1000\")\n",
        "        print(\"3. Headphones - $150\")\n",
        "        print(\"4. Smartwatch - $250\")\n",
        "        print(\"5. Camera - $700\")\n",
        "        prices = [500, 1000, 150, 250, 700]\n",
        "\n",
        "    if category_choice == 2:\n",
        "        print(\"\\nClothing\")\n",
        "        print(\"1. Shirt - $90\")\n",
        "        print(\"2. Jeans - $40\")\n",
        "        print(\"3. Shoes - $55\")\n",
        "        print(\"4. Socks - $11\")\n",
        "        print(\"5. Jacket - $110\")\n",
        "        prices = [90, 40, 55, 11, 110]\n",
        "\n",
        "    if category_choice == 3:\n",
        "        print(\"\\nBook\")\n",
        "        print(\"1. Biography - $40\")\n",
        "        print(\"2. Novel - $20\")\n",
        "        print(\"3. Textbook - $50\")\n",
        "        print(\"4. Comic Book - $30\")\n",
        "        print(\"5. Cookbook - $60\")\n",
        "        prices = [15, 10, 80, 5, 20]\n",
        "\n",
        "    while True:\n",
        "        try:\n",
        "            item_choice = int(input(\"Choose an item (1-5): \"))\n",
        "            if 1 <= item_choice <= 5:\n",
        "                break\n",
        "            else:\n",
        "                print(\"Invalid item choice. Please enter a number.\")\n",
        "        except ValueError:\n",
        "            print(\"Invalid input. Please enter a number.\")\n",
        "\n",
        "    item_price = prices[item_choice - 1]\n",
        "    print(f\"\\nItem price: ${item_price}\")\n",
        "\n",
        "    checkout_choice = input(\"\\nCheckout? (yes/no): \").lower()\n",
        "    if checkout_choice == \"yes\":\n",
        "        print(f\"\\nThank you for your purchase! Your total is ${item_price}.\")\n",
        "     else:\n",
        "        print(\"\\nYour item has been removed from the cart.\")\n",
        "        commerce_store()\n",
        "\n",
        "commerce_store()\n",
        "\n",
        "\n",
        "\n",
        "\n"
      ]
    },
    {
      "cell_type": "code",
      "source": [],
      "metadata": {
        "id": "vZiO8Q-_s5z7"
      },
      "execution_count": null,
      "outputs": []
    }
  ]
}